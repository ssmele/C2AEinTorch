{
 "cells": [
  {
   "cell_type": "markdown",
   "metadata": {},
   "source": [
    "# This notebook is used for training and evaluating One Vs All Gradient Boosted Classifiers on multi-label datasets."
   ]
  },
  {
   "cell_type": "code",
   "execution_count": 2,
   "metadata": {},
   "outputs": [],
   "source": [
    "import numpy as np\n",
    "import pandas as pd\n",
    "\n",
    "from sklearn.multiclass import OneVsRestClassifier\n",
    "from sklearn.ensemble import GradientBoostingClassifier\n",
    "\n",
    "from sklearn.metrics import hamming_loss, accuracy_score, f1_score, precision_score, recall_score\n",
    "from skmultilearn.dataset import load_dataset"
   ]
  },
  {
   "cell_type": "markdown",
   "metadata": {},
   "source": [
    "Run one vs all classifier on datasets, and calculate metrics for comparison"
   ]
  },
  {
   "cell_type": "code",
   "execution_count": 8,
   "metadata": {},
   "outputs": [
    {
     "name": "stdout",
     "output_type": "stream",
     "text": [
      "scene:train - exists, not redownloading\n",
      "scene:test - exists, not redownloading\n",
      "(1211, 294) (1211, 6) (1196, 294) (1196, 6)\n",
      "tmc2007_500:train - exists, not redownloading\n",
      "tmc2007_500:test - exists, not redownloading\n",
      "(21519, 500) (21519, 22) (7077, 500) (7077, 22)\n",
      "mediamill:train - exists, not redownloading\n",
      "mediamill:test - exists, not redownloading\n",
      "(30993, 120) (30993, 101) (12914, 120) (12914, 101)\n"
     ]
    }
   ],
   "source": [
    "result_dict = []\n",
    "for dataset_name in ['scene', 'tmc2007_500', 'mediamill']:\n",
    "    # Grab the train, and test data.\n",
    "    train_x, train_y, feat_names, label_names = load_dataset(dataset_name, 'train')\n",
    "    test_x, test_y, _, _ = load_dataset(dataset_name, 'test')\n",
    "    \n",
    "    print(train_x.shape, train_y.shape, test_x.shape, test_y.shape)"
   ]
  },
  {
   "cell_type": "markdown",
   "metadata": {},
   "source": [
    "# Train on each dataset and generate metric results."
   ]
  },
  {
   "cell_type": "code",
   "execution_count": 9,
   "metadata": {},
   "outputs": [
    {
     "name": "stdout",
     "output_type": "stream",
     "text": [
      "scene:train - exists, not redownloading\n",
      "scene:test - exists, not redownloading\n",
      "(1211, 294) (1211, 6) (1196, 294) (1196, 6)\n",
      "tmc2007_500:train - exists, not redownloading\n",
      "tmc2007_500:test - exists, not redownloading\n",
      "(21519, 500) (21519, 22) (7077, 500) (7077, 22)\n",
      "mediamill:train - exists, not redownloading\n",
      "mediamill:test - exists, not redownloading\n",
      "(30993, 120) (30993, 101) (12914, 120) (12914, 101)\n"
     ]
    }
   ],
   "source": [
    "result_dict = []\n",
    "for dataset_name in ['scene', 'tmc2007_500', 'mediamill']:\n",
    "    # Grab the train, and test data.\n",
    "    train_x, train_y, feat_names, label_names = load_dataset(dataset_name, 'train')\n",
    "    test_x, test_y, _, _ = load_dataset(dataset_name, 'test')\n",
    "    \n",
    "    print(train_x.shape, train_y.shape, test_x.shape, test_y.shape)\n",
    "    \n",
    "    # Train OveVsRest Classifier\n",
    "    oagbc = OneVsRestClassifier(GradientBoostingClassifier())\n",
    "    oagbc.fit(train_x, train_y)\n",
    "    \n",
    "    # Evaluate model.\n",
    "    preds = oagbc.predict(test_x)\n",
    "    data_dict = {}\n",
    "    data_dict['dataset'] = dataset_name\n",
    "    for m in [ham_los, accuracy_score, micro_f1, micro_p, micro_r, macro_f1, macro_p, macro_r]:\n",
    "        data_dict[m.__name__] = m(test_y, preds)\n",
    "        \n",
    "    # Save results.\n",
    "    result_dict.append(data_dict)\n",
    "results = pd.DataFrame(result_dict)"
   ]
  },
  {
   "cell_type": "code",
   "execution_count": 10,
   "metadata": {},
   "outputs": [
    {
     "data": {
      "text/html": [
       "<div>\n",
       "<style scoped>\n",
       "    .dataframe tbody tr th:only-of-type {\n",
       "        vertical-align: middle;\n",
       "    }\n",
       "\n",
       "    .dataframe tbody tr th {\n",
       "        vertical-align: top;\n",
       "    }\n",
       "\n",
       "    .dataframe thead th {\n",
       "        text-align: right;\n",
       "    }\n",
       "</style>\n",
       "<table border=\"1\" class=\"dataframe\">\n",
       "  <thead>\n",
       "    <tr style=\"text-align: right;\">\n",
       "      <th></th>\n",
       "      <th>dataset</th>\n",
       "      <th>ham_los</th>\n",
       "      <th>accuracy_score</th>\n",
       "      <th>micro_f1</th>\n",
       "      <th>micro_p</th>\n",
       "      <th>micro_r</th>\n",
       "      <th>macro_f1</th>\n",
       "      <th>macro_p</th>\n",
       "      <th>macro_r</th>\n",
       "    </tr>\n",
       "  </thead>\n",
       "  <tbody>\n",
       "    <tr>\n",
       "      <th>0</th>\n",
       "      <td>scene</td>\n",
       "      <td>0.087653</td>\n",
       "      <td>0.571070</td>\n",
       "      <td>0.722785</td>\n",
       "      <td>0.845361</td>\n",
       "      <td>0.631255</td>\n",
       "      <td>0.723555</td>\n",
       "      <td>0.843668</td>\n",
       "      <td>0.637149</td>\n",
       "    </tr>\n",
       "    <tr>\n",
       "      <th>1</th>\n",
       "      <td>tmc2007_500</td>\n",
       "      <td>0.057099</td>\n",
       "      <td>0.301682</td>\n",
       "      <td>0.690352</td>\n",
       "      <td>0.754760</td>\n",
       "      <td>0.636072</td>\n",
       "      <td>0.628381</td>\n",
       "      <td>0.827951</td>\n",
       "      <td>0.538305</td>\n",
       "    </tr>\n",
       "    <tr>\n",
       "      <th>2</th>\n",
       "      <td>mediamill</td>\n",
       "      <td>0.032305</td>\n",
       "      <td>0.087812</td>\n",
       "      <td>0.536478</td>\n",
       "      <td>0.717113</td>\n",
       "      <td>0.428534</td>\n",
       "      <td>0.102668</td>\n",
       "      <td>0.203368</td>\n",
       "      <td>0.085217</td>\n",
       "    </tr>\n",
       "  </tbody>\n",
       "</table>\n",
       "</div>"
      ],
      "text/plain": [
       "       dataset   ham_los  accuracy_score  micro_f1   micro_p   micro_r  \\\n",
       "0        scene  0.087653        0.571070  0.722785  0.845361  0.631255   \n",
       "1  tmc2007_500  0.057099        0.301682  0.690352  0.754760  0.636072   \n",
       "2    mediamill  0.032305        0.087812  0.536478  0.717113  0.428534   \n",
       "\n",
       "   macro_f1   macro_p   macro_r  \n",
       "0  0.723555  0.843668  0.637149  \n",
       "1  0.628381  0.827951  0.538305  \n",
       "2  0.102668  0.203368  0.085217  "
      ]
     },
     "execution_count": 10,
     "metadata": {},
     "output_type": "execute_result"
    }
   ],
   "source": [
    "results"
   ]
  }
 ],
 "metadata": {
  "kernelspec": {
   "display_name": "Python 3",
   "language": "python",
   "name": "python3"
  },
  "language_info": {
   "codemirror_mode": {
    "name": "ipython",
    "version": 3
   },
   "file_extension": ".py",
   "mimetype": "text/x-python",
   "name": "python",
   "nbconvert_exporter": "python",
   "pygments_lexer": "ipython3",
   "version": "3.8.2"
  }
 },
 "nbformat": 4,
 "nbformat_minor": 4
}
