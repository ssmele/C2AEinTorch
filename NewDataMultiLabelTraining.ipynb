{
 "cells": [
  {
   "cell_type": "code",
   "execution_count": 110,
   "metadata": {},
   "outputs": [],
   "source": [
    "import numpy as np\n",
    "import matplotlib.pyplot as plt\n",
    "import pandas as pd\n",
    "import torch\n",
    "import torch.nn.functional as F\n",
    "import torchvision as tv\n",
    "import torch.optim as optim\n",
    "from torch.utils.tensorboard import SummaryWriter\n",
    "from torch.utils.data import TensorDataset, DataLoader\n",
    "\n",
    "from sklearn.metrics import hamming_loss, accuracy_score\n",
    "\n",
    "import arff"
   ]
  },
  {
   "cell_type": "markdown",
   "metadata": {},
   "source": [
    "# Loading in data"
   ]
  },
  {
   "cell_type": "code",
   "execution_count": 16,
   "metadata": {},
   "outputs": [],
   "source": [
    "nus_train = arff.load(open('./nus/nus-wide-full-cVLADplus-train.arff'))\n",
    "nus_test = arff.load(open('./nus/nus-wide-full-cVLADplus-test.arff'))"
   ]
  },
  {
   "cell_type": "code",
   "execution_count": 27,
   "metadata": {},
   "outputs": [],
   "source": [
    "nus_train_x = np.array(nus_train['data'])[:, 1:129].astype('float64')\n",
    "nus_train_y = np.array(nus_train['data'])[:, 129:].astype('float64')\n",
    "\n",
    "nus_test_x = np.array(nus_test['data'])[:, 1:129].astype('float64')\n",
    "nus_test_y = np.array(nus_test['data'])[:, 129:].astype('float64')"
   ]
  },
  {
   "cell_type": "code",
   "execution_count": 28,
   "metadata": {},
   "outputs": [
    {
     "data": {
      "text/plain": [
       "((161789, 128), (161789, 81), (107859, 128), (107859, 81))"
      ]
     },
     "execution_count": 28,
     "metadata": {},
     "output_type": "execute_result"
    }
   ],
   "source": [
    "nus_train_x.shape, nus_train_y.shape, nus_test_x.shape, nus_test_y.shape"
   ]
  },
  {
   "cell_type": "markdown",
   "metadata": {},
   "source": [
    "### Data label attributes:"
   ]
  },
  {
   "cell_type": "markdown",
   "metadata": {},
   "source": [
    "Cardinality"
   ]
  },
  {
   "cell_type": "code",
   "execution_count": 68,
   "metadata": {},
   "outputs": [
    {
     "data": {
      "text/plain": [
       "(1.8632848957592913, 1.876421995382861)"
      ]
     },
     "execution_count": 68,
     "metadata": {},
     "output_type": "execute_result"
    }
   ],
   "source": [
    "nus_train_y.sum(axis=1).mean(), nus_test_y.sum(axis=1).mean()"
   ]
  },
  {
   "cell_type": "markdown",
   "metadata": {},
   "source": [
    "Classes are pretty un-uniformly distributed. So using Hamming Loss might not be the best."
   ]
  },
  {
   "cell_type": "code",
   "execution_count": 75,
   "metadata": {},
   "outputs": [
    {
     "data": {
      "image/png": "[encoded data removed]",
      "text/plain": [
       "<Figure size 1440x720 with 2 Axes>"
      ]
     },
     "metadata": {
      "needs_background": "light"
     },
     "output_type": "display_data"
    }
   ],
   "source": [
    "fig, axs = plt.subplots(1, 2, figsize=(20, 10))\n",
    "axs[0].bar(range(len(nus_train_y.sum(axis=0))), nus_train_y.sum(axis=0))\n",
    "axs[0].set_title(\"Label distribution train\")\n",
    "\n",
    "axs[1].bar(range(len(nus_test_y.sum(axis=0))), nus_test_y.sum(axis=0))\n",
    "axs[1].set_title(\"Label distribution test.\")\n",
    "plt.show()"
   ]
  },
  {
   "cell_type": "markdown",
   "metadata": {},
   "source": [
    "Normalized distributions between class are very similar"
   ]
  },
  {
   "cell_type": "code",
   "execution_count": 77,
   "metadata": {},
   "outputs": [
    {
     "data": {
      "text/plain": [
       "2.6020852139652106e-18"
      ]
     },
     "execution_count": 77,
     "metadata": {},
     "output_type": "execute_result"
    }
   ],
   "source": [
    "norm_train_dist = nus_train_y.sum(axis=0)/nus_train_y.sum(axis=0).sum()\n",
    "norm_test_dist = nus_test_y.sum(axis=0)/nus_test_y.sum(axis=0).sum()\n",
    "np.sum(norm_train_dist-norm_test_dist)"
   ]
  },
  {
   "cell_type": "markdown",
   "metadata": {},
   "source": [
    "Making TensorDatasets"
   ]
  },
  {
   "cell_type": "code",
   "execution_count": 111,
   "metadata": {},
   "outputs": [],
   "source": [
    "train_dataset = TensorDataset(torch.Tensor(nus_train_x), torch.Tensor(nus_train_y))\n",
    "test_dataset = TensorDataset(torch.Tensor(nus_test_x), torch.Tensor(nus_test_y))\n",
    "\n",
    "train_dataloader = DataLoader(train_dataset, batch_size=1028)\n",
    "test_dataloader = DataLoader(test_dataset, batch_size=1028)"
   ]
  },
  {
   "cell_type": "markdown",
   "metadata": {},
   "source": [
    "Simple FC Model."
   ]
  },
  {
   "cell_type": "code",
   "execution_count": 126,
   "metadata": {},
   "outputs": [],
   "source": [
    "class NusModel(torch.nn.Module):\n",
    "    \n",
    "    def __init__(self):\n",
    "        super(NusModel, self).__init__()\n",
    "        self.fc1 = torch.nn.Linear(128, 100)\n",
    "        self.fc2 = torch.nn.Linear(100, 81)\n",
    "    \n",
    "    def forward(self, x):\n",
    "        x = F.relu(self.fc1(x))\n",
    "        x = self.fc2(x)\n",
    "        return x"
   ]
  },
  {
   "cell_type": "markdown",
   "metadata": {},
   "source": [
    "Training Setup, and Loop"
   ]
  },
  {
   "cell_type": "code",
   "execution_count": 128,
   "metadata": {},
   "outputs": [
    {
     "name": "stdout",
     "output_type": "stream",
     "text": [
      "Epoch: 0, Train loss: 0.0006517729013171832, Test loss: 0.000621299202022026\n",
      "Epoch: 5, Train loss: 0.00013319374597805958, Test loss: 0.00011856016299203328\n",
      "Epoch: 10, Train loss: 8.864674828240395e-05, Test loss: 8.79245820080087e-05\n",
      "Epoch: 15, Train loss: 8.463957154452927e-05, Test loss: 8.45694191033598e-05\n",
      "Epoch: 20, Train loss: 8.355871539043874e-05, Test loss: 8.361094976959361e-05\n",
      "Epoch: 25, Train loss: 8.311404961351007e-05, Test loss: 8.3205364439714e-05\n",
      "Epoch: 30, Train loss: 8.288159743028299e-05, Test loss: 8.298928022952733e-05\n",
      "Epoch: 35, Train loss: 8.2738969438259e-05, Test loss: 8.285472236678624e-05\n",
      "Epoch: 40, Train loss: 8.264069190117521e-05, Test loss: 8.276087450571542e-05\n",
      "Epoch: 45, Train loss: 8.256674283141255e-05, Test loss: 8.268955297865722e-05\n",
      "Epoch: 50, Train loss: 8.250716183393788e-05, Test loss: 8.263162870198834e-05\n",
      "Epoch: 55, Train loss: 8.245651470378381e-05, Test loss: 8.258207922219039e-05\n",
      "Epoch: 60, Train loss: 8.241159298347758e-05, Test loss: 8.25379159901488e-05\n",
      "Epoch: 65, Train loss: 8.237040997740004e-05, Test loss: 8.249726708712158e-05\n",
      "Epoch: 70, Train loss: 8.233164007819976e-05, Test loss: 8.2458878419424e-05\n",
      "Epoch: 75, Train loss: 8.229437458020688e-05, Test loss: 8.242188780196517e-05\n",
      "Epoch: 80, Train loss: 8.225796294088261e-05, Test loss: 8.238566431958844e-05\n",
      "Epoch: 85, Train loss: 8.222191116880565e-05, Test loss: 8.234973013186063e-05\n",
      "Epoch: 90, Train loss: 8.218582697667083e-05, Test loss: 8.231370493513094e-05\n",
      "Epoch: 95, Train loss: 8.21493906078422e-05, Test loss: 8.227727422163032e-05\n",
      "Epoch: 100, Train loss: 8.211233630073756e-05, Test loss: 8.224018354607718e-05\n",
      "Epoch: 105, Train loss: 8.207443838136042e-05, Test loss: 8.220220060238164e-05\n",
      "Epoch: 110, Train loss: 8.203547426114594e-05, Test loss: 8.216310638178429e-05\n",
      "Epoch: 115, Train loss: 8.199524449226662e-05, Test loss: 8.212270712318429e-05\n",
      "Epoch: 120, Train loss: 8.195356157718617e-05, Test loss: 8.208081151771579e-05\n",
      "Epoch: 125, Train loss: 8.191024285374623e-05, Test loss: 8.203723454252367e-05\n",
      "Epoch: 130, Train loss: 8.186510243620315e-05, Test loss: 8.19917921418314e-05\n",
      "Epoch: 135, Train loss: 8.181795434671084e-05, Test loss: 8.194429490639177e-05\n",
      "Epoch: 140, Train loss: 8.176861302188417e-05, Test loss: 8.189455829688894e-05\n",
      "Epoch: 145, Train loss: 8.171689593771847e-05, Test loss: 8.18423962543122e-05\n",
      "Epoch: 150, Train loss: 8.166261389278233e-05, Test loss: 8.178762344495977e-05\n",
      "Epoch: 155, Train loss: 8.16055708240128e-05, Test loss: 8.173005170297113e-05\n",
      "Epoch: 160, Train loss: 8.154558874345022e-05, Test loss: 8.166949189540725e-05\n",
      "Epoch: 165, Train loss: 8.148247092028899e-05, Test loss: 8.160574874147239e-05\n",
      "Epoch: 170, Train loss: 8.141603697190604e-05, Test loss: 8.153863714923438e-05\n",
      "Epoch: 175, Train loss: 8.134609974614924e-05, Test loss: 8.146797634407615e-05\n",
      "Epoch: 180, Train loss: 8.127248556084783e-05, Test loss: 8.13935947731657e-05\n",
      "Epoch: 185, Train loss: 8.119503434196616e-05, Test loss: 8.13153284130684e-05\n",
      "Epoch: 190, Train loss: 8.111359432771353e-05, Test loss: 8.123302629591057e-05\n",
      "Epoch: 195, Train loss: 8.102802368033681e-05, Test loss: 8.114654318721285e-05\n",
      "Epoch: 200, Train loss: 8.093819813062277e-05, Test loss: 8.10557625540066e-05\n"
     ]
    }
   ],
   "source": [
    "num_epochs = 200\n",
    "lr = 0.1\n",
    "\n",
    "device = torch.device('cuda')\n",
    "\n",
    "net = NusModel().to(device)\n",
    "\n",
    "criterion = torch.nn.BCEWithLogitsLoss()\n",
    "optimizer = optim.SGD(net.parameters(), lr=lr)\n",
    "writer = SummaryWriter()\n",
    "\n",
    "train_loss = []\n",
    "test_loss = []\n",
    "\n",
    "for epoch in range(num_epochs+1):\n",
    "    \n",
    "    # Training.\n",
    "    net.train()\n",
    "    loss_tracker = 0.0\n",
    "    for x, y in train_dataloader:\n",
    "        x, y = x.cuda(), y.cuda()\n",
    "        optimizer.zero_grad()\n",
    "        preds = net(x)\n",
    "        loss = criterion(preds, y)\n",
    "        loss.backward()\n",
    "        optimizer.step()\n",
    "        loss_tracker+=loss.item()\n",
    "    writer.add_scalar('loss/train', loss_tracker/len(train_dataset), epoch)\n",
    "    train_loss.append(loss_tracker/len(train_dataset))\n",
    "    \n",
    "    # Evaluation\n",
    "    net.eval()\n",
    "    test_tracker = 0.0\n",
    "    for x, y in test_dataloader:\n",
    "        x, y = x.cuda(), y.cuda()\n",
    "        preds = net(x)\n",
    "        loss = criterion(preds, y)\n",
    "        test_tracker += loss.item()\n",
    "    writer.add_scalar('loss/test', test_tracker/len(test_dataset), epoch)\n",
    "    test_loss.append(test_tracker/len(test_dataset))\n",
    "    \n",
    "    if epoch % 5 == 0:\n",
    "        print(\"Epoch: {}, Train loss: {}, Test loss: {}\".format(epoch, train_loss[-1], test_loss[-1]))"
   ]
  },
  {
   "cell_type": "code",
   "execution_count": 129,
   "metadata": {},
   "outputs": [],
   "source": [
    "writer.add_graph(net, input_to_model=train_dataset[:20][0].cuda())"
   ]
  },
  {
   "cell_type": "code",
   "execution_count": 130,
   "metadata": {},
   "outputs": [
    {
     "data": {
      "text/plain": [
       "<matplotlib.legend.Legend at 0x27efb57fbe0>"
      ]
     },
     "execution_count": 130,
     "metadata": {},
     "output_type": "execute_result"
    },
    {
     "data": {
      "image/png": "[encoded data removed]",
      "text/plain": [
       "<Figure size 720x720 with 1 Axes>"
      ]
     },
     "metadata": {
      "needs_background": "light"
     },
     "output_type": "display_data"
    }
   ],
   "source": [
    "plt.figure(figsize=(10,10))\n",
    "plt.plot(train_loss, label='train')\n",
    "plt.plot(test_loss, label='test')\n",
    "plt.legend()"
   ]
  },
  {
   "cell_type": "markdown",
   "metadata": {},
   "source": [
    "# Save the model after training."
   ]
  },
  {
   "cell_type": "code",
   "execution_count": 131,
   "metadata": {},
   "outputs": [],
   "source": [
    "def save_model(model, path):\n",
    "    torch.save(model.state_dict(), path)\n",
    "def load_model(model_cls, path):\n",
    "    model = model_cls(*args, **kwargs)\n",
    "    model.load_state_dict(torch.load(path))\n",
    "    model.eval()"
   ]
  },
  {
   "cell_type": "code",
   "execution_count": 132,
   "metadata": {},
   "outputs": [],
   "source": [
    "save_model(net, './models/mod_nus_v1.torch')"
   ]
  },
  {
   "cell_type": "code",
   "execution_count": 133,
   "metadata": {},
   "outputs": [],
   "source": [
    "def eval_metrics(mod, metrics, datasets):\n",
    "    res_dict = {}\n",
    "    for ix, dataset in enumerate(datasets):\n",
    "        mod.eval()\n",
    "        x = dataset.tensors[0].cuda()\n",
    "        # Make predictions.\n",
    "        preds = mod(x)\n",
    "        # Convert them to binary multilabels.\n",
    "        y_pred = torch.round(torch.sigmoid(preds)).cpu().detach().numpy()\n",
    "        y_true = dataset.tensors[1].cpu().detach().numpy()\n",
    "        # Calculate metric.\n",
    "        res_dict[f'dataset_{ix}'] = {metric.__name__: metric(y_true, y_pred) for metric in metrics}\n",
    "    return res_dict"
   ]
  },
  {
   "cell_type": "code",
   "execution_count": 152,
   "metadata": {},
   "outputs": [
    {
     "data": {
      "text/plain": [
       "0.0"
      ]
     },
     "execution_count": 152,
     "metadata": {},
     "output_type": "execute_result"
    }
   ],
   "source": [
    "preds = net(train_dataset.tensors[0].to(device))\n",
    "y_pred = torch.round(torch.sigmoid(preds)).cpu().detach().numpy()\n",
    "y_true = train_dataset.tensors[1].cpu().detach().numpy()\n",
    "hamming_loss(y_true, y_pred)"
   ]
  },
  {
   "cell_type": "code",
   "execution_count": 134,
   "metadata": {},
   "outputs": [
    {
     "data": {
      "text/plain": [
       "{'dataset_0': {'hamming_loss': 0.02300351723159619,\n",
       "  'accuracy_score': 0.22461353985746868},\n",
       " 'dataset_1': {'hamming_loss': 0.023165703646701986,\n",
       "  'accuracy_score': 0.22215114176841988}}"
      ]
     },
     "execution_count": 134,
     "metadata": {},
     "output_type": "execute_result"
    }
   ],
   "source": [
    "eval_metrics(net, [hamming_loss, accuracy_score], [train_dataset, test_dataset])"
   ]
  }
 ],
 "metadata": {
  "kernelspec": {
   "display_name": "Python 3",
   "language": "python",
   "name": "python3"
  },
  "language_info": {
   "codemirror_mode": {
    "name": "ipython",
    "version": 3
   },
   "file_extension": ".py",
   "mimetype": "text/x-python",
   "name": "python",
   "nbconvert_exporter": "python",
   "pygments_lexer": "ipython3",
   "version": "3.7.2"
  }
 },
 "nbformat": 4,
 "nbformat_minor": 4
}