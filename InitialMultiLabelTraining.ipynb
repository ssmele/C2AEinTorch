{
 "cells": [
  {
   "cell_type": "code",
   "execution_count": 139,
   "metadata": {},
   "outputs": [],
   "source": [
    "import numpy as np\n",
    "import matplotlib.pyplot as plt\n",
    "import pandas as pd\n",
    "import torch\n",
    "import torch.nn.functional as F\n",
    "import torchvision as tv\n",
    "import torch.optim as optim\n",
    "from torch.utils.data import TensorDataset, DataLoader\n",
    "\n",
    "from sklearn.metrics import hamming_loss, accuracy_score\n",
    "\n",
    "from scipy.io import arff"
   ]
  },
  {
   "cell_type": "markdown",
   "metadata": {},
   "source": [
    "# Loading in data"
   ]
  },
  {
   "cell_type": "code",
   "execution_count": 183,
   "metadata": {},
   "outputs": [],
   "source": [
    "scene = arff.loadarff('./scene.arff')\n",
    "train = arff.loadarff('./scene-train.arff')\n",
    "test = arff.loadarff('./scene-train.arff')"
   ]
  },
  {
   "cell_type": "code",
   "execution_count": 3,
   "metadata": {},
   "outputs": [],
   "source": [
    "scene_df = pd.DataFrame(scene[0])\n",
    "train_df = pd.DataFrame(train[0])\n",
    "test_df = pd.DataFrame(test[0])"
   ]
  },
  {
   "cell_type": "code",
   "execution_count": 4,
   "metadata": {},
   "outputs": [
    {
     "data": {
      "text/plain": [
       "(2407, 300)"
      ]
     },
     "execution_count": 4,
     "metadata": {},
     "output_type": "execute_result"
    }
   ],
   "source": [
    "scene_df.shape"
   ]
  },
  {
   "cell_type": "code",
   "execution_count": 5,
   "metadata": {},
   "outputs": [
    {
     "data": {
      "text/plain": [
       "(1211, 300)"
      ]
     },
     "execution_count": 5,
     "metadata": {},
     "output_type": "execute_result"
    }
   ],
   "source": [
    "train_df.shape"
   ]
  },
  {
   "cell_type": "code",
   "execution_count": 6,
   "metadata": {},
   "outputs": [
    {
     "data": {
      "text/plain": [
       "(1211, 300)"
      ]
     },
     "execution_count": 6,
     "metadata": {},
     "output_type": "execute_result"
    }
   ],
   "source": [
    "test_df.shape"
   ]
  },
  {
   "cell_type": "markdown",
   "metadata": {},
   "source": [
    "### Data label attributes:"
   ]
  },
  {
   "cell_type": "code",
   "execution_count": 184,
   "metadata": {},
   "outputs": [],
   "source": [
    "data_labels = scene_df.loc[:, 'Beach': 'Urban'].astype('int').values"
   ]
  },
  {
   "cell_type": "markdown",
   "metadata": {},
   "source": [
    "Cardinality"
   ]
  },
  {
   "cell_type": "code",
   "execution_count": 187,
   "metadata": {},
   "outputs": [
    {
     "data": {
      "text/plain": [
       "1.0739509763190693"
      ]
     },
     "execution_count": 187,
     "metadata": {},
     "output_type": "execute_result"
    }
   ],
   "source": [
    "data_labels.sum(axis=1).mean()"
   ]
  },
  {
   "cell_type": "markdown",
   "metadata": {},
   "source": [
    "Classes are pretty uniformly distributed. So using Hamming loss should be good."
   ]
  },
  {
   "cell_type": "code",
   "execution_count": 189,
   "metadata": {},
   "outputs": [
    {
     "data": {
      "image/png": "[encoded data removed]",
      "text/plain": [
       "<Figure size 432x288 with 1 Axes>"
      ]
     },
     "metadata": {
      "needs_background": "light"
     },
     "output_type": "display_data"
    }
   ],
   "source": [
    "plt.figure()\n",
    "plt.bar(range(6), data_labels.sum(axis=0))\n",
    "plt.xticks(ticks=range(6), labels=scene_df.loc[:, 'Beach': 'Urban'].columns.values)\n",
    "plt.show()"
   ]
  },
  {
   "cell_type": "markdown",
   "metadata": {},
   "source": [
    "# Making TensorDatasets"
   ]
  },
  {
   "cell_type": "code",
   "execution_count": 134,
   "metadata": {},
   "outputs": [],
   "source": [
    "X, Y = train_df.loc[:, 'Att1':'Att294'].values, train_df.loc[:, 'Beach': 'Urban'].astype('int').values\n",
    "X_test, Y_test  = test_df.loc[:, 'Att1':'Att294'].values, test_df.loc[:, 'Beach': 'Urban'].astype('int').values\n",
    "\n",
    "trans = tv.transforms.Compose([tv.transforms.Lambda(lambda x: torch.Tensor(x))])\n",
    "X, Y = trans(X), trans(Y)\n",
    "X_test, Y_test = trans(X_test), trans(Y_test)\n",
    "\n",
    "train_dataset = TensorDataset(X,Y)\n",
    "test_dataset = TensorDataset(X_test, Y_test)\n",
    "\n",
    "train_dataloader = DataLoader(train_dataset, batch_size=4)\n",
    "test_dataloader = DataLoader(test_dataset, batch_size=4)"
   ]
  },
  {
   "cell_type": "code",
   "execution_count": 137,
   "metadata": {},
   "outputs": [],
   "source": [
    "class SceneModel(torch.nn.Module):\n",
    "    \n",
    "    def __init__(self):\n",
    "        super(SceneModel, self).__init__()\n",
    "        self.fc1 = torch.nn.Linear(294, 100)\n",
    "        self.fc2 = torch.nn.Linear(100, 6)\n",
    "    \n",
    "    def forward(self, x):\n",
    "        x = F.relu(self.fc1(x))\n",
    "        x = self.fc2(x)\n",
    "        return x"
   ]
  },
  {
   "cell_type": "code",
   "execution_count": 15,
   "metadata": {},
   "outputs": [
    {
     "name": "stdout",
     "output_type": "stream",
     "text": [
      "Epoch: 0, Train loss: 0.15947365789542053, Test loss: 1.391184045286179\n",
      "Epoch: 25, Train loss: 0.11067869853906075, Test loss: 1.3793956686130944\n",
      "Epoch: 50, Train loss: 0.08343104705892244, Test loss: 1.144861444072466\n",
      "Epoch: 75, Train loss: 0.07203334379709163, Test loss: 1.1595700793629113\n",
      "Epoch: 100, Train loss: 0.057420740973491764, Test loss: 1.0579338584121365\n",
      "Epoch: 125, Train loss: 0.04528668788918709, Test loss: 0.8814990247579417\n",
      "Epoch: 150, Train loss: 0.040108170599580904, Test loss: 0.7805373926791854\n",
      "Epoch: 175, Train loss: 0.030121477220247602, Test loss: 0.8214973243170114\n",
      "Epoch: 200, Train loss: 0.02701197598217783, Test loss: 0.9727082829308183\n",
      "Epoch: 225, Train loss: 0.02153230948443097, Test loss: 1.0203372609935872\n",
      "Epoch: 250, Train loss: 0.017979788349074693, Test loss: 1.06458081352089\n",
      "Epoch: 275, Train loss: 0.01468722359819628, Test loss: 1.0719515781462154\n",
      "Epoch: 300, Train loss: 0.012341401819794526, Test loss: 1.0531185314283154\n",
      "Epoch: 325, Train loss: 0.010314814979487021, Test loss: 1.046155842151308\n",
      "Epoch: 350, Train loss: 0.008831082129555348, Test loss: 1.0428039269022917\n",
      "Epoch: 375, Train loss: 0.007767323320704024, Test loss: 1.020131048135189\n",
      "Epoch: 400, Train loss: 0.006991802536254037, Test loss: 1.0103503463722057\n",
      "Epoch: 425, Train loss: 0.006344789211201266, Test loss: 0.994196013622677\n",
      "Epoch: 450, Train loss: 0.005848555645015322, Test loss: 0.9597094451444601\n",
      "Epoch: 475, Train loss: 0.00541041629907235, Test loss: 0.9100534444386781\n",
      "Epoch: 500, Train loss: 0.005041394385293815, Test loss: 0.8569730261853258\n",
      "Epoch: 525, Train loss: 0.004674313768299414, Test loss: 0.8068965746683575\n",
      "Epoch: 550, Train loss: 0.004341494460395108, Test loss: 0.7715186674870539\n",
      "Epoch: 575, Train loss: 0.004082406965077259, Test loss: 0.737170990518148\n",
      "Epoch: 600, Train loss: 0.003824791134216875, Test loss: 0.6950440294914181\n",
      "Epoch: 625, Train loss: 0.003603645560895342, Test loss: 0.6558508180576126\n",
      "Epoch: 650, Train loss: 0.0034555200543327476, Test loss: 0.6212705137439076\n",
      "Epoch: 675, Train loss: 0.003287852333198799, Test loss: 0.5888577909695447\n",
      "Epoch: 700, Train loss: 0.0031320925599152677, Test loss: 0.5555750139753999\n",
      "Epoch: 725, Train loss: 0.0029967046312125143, Test loss: 0.5287264080281753\n",
      "Epoch: 750, Train loss: 0.0028686300446929365, Test loss: 0.4888461513723523\n",
      "Epoch: 775, Train loss: 0.002749822981428258, Test loss: 0.46040873393802556\n",
      "Epoch: 800, Train loss: 0.002614664104855644, Test loss: 0.42687306791383933\n",
      "Epoch: 825, Train loss: 0.002496932269281239, Test loss: 0.39785197264311545\n",
      "Epoch: 850, Train loss: 0.002383019894945631, Test loss: 0.3701852753598389\n",
      "Epoch: 875, Train loss: 0.002281145288141683, Test loss: 0.3473982752605511\n",
      "Epoch: 900, Train loss: 0.0021794528597019187, Test loss: 0.3237046356409989\n",
      "Epoch: 925, Train loss: 0.0020912148639773156, Test loss: 0.29873282361128434\n",
      "Epoch: 950, Train loss: 0.0019968694014109384, Test loss: 0.27715843303017923\n",
      "Epoch: 975, Train loss: 0.0019121716256982797, Test loss: 0.25639376612750675\n",
      "Epoch: 1000, Train loss: 0.0018345616983424483, Test loss: 0.2338177512455438\n",
      "Epoch: 1025, Train loss: 0.0017560806375595552, Test loss: 0.21661689411889187\n",
      "Epoch: 1050, Train loss: 0.0016741277621457153, Test loss: 0.1986059960486506\n",
      "Epoch: 1075, Train loss: 0.0016115394303415785, Test loss: 0.18205579916637768\n",
      "Epoch: 1100, Train loss: 0.0015320034489223484, Test loss: 0.16444030775012883\n",
      "Epoch: 1125, Train loss: 0.0014646952165539512, Test loss: 0.15094086688204064\n",
      "Epoch: 1150, Train loss: 0.001407293393149487, Test loss: 0.13573549043626065\n",
      "Epoch: 1175, Train loss: 0.0013361564668663796, Test loss: 0.12365588790750522\n",
      "Epoch: 1200, Train loss: 0.0012842449753172637, Test loss: 0.11140122692866342\n",
      "Epoch: 1225, Train loss: 0.001213228038787389, Test loss: 0.10139276310436893\n",
      "Epoch: 1250, Train loss: 0.0011638984791387122, Test loss: 0.09163303773550815\n",
      "Epoch: 1275, Train loss: 0.001101270983042436, Test loss: 0.08163819737052823\n",
      "Epoch: 1300, Train loss: 0.0010505846359144457, Test loss: 0.07424761279488244\n",
      "Epoch: 1325, Train loss: 0.0010006944732746158, Test loss: 0.06590872948210026\n",
      "Epoch: 1350, Train loss: 0.000949877084214011, Test loss: 0.059400943236647956\n",
      "Epoch: 1375, Train loss: 0.0008980722231609906, Test loss: 0.05305175444707844\n",
      "Epoch: 1400, Train loss: 0.0008551878482233207, Test loss: 0.047408024577621735\n",
      "Epoch: 1425, Train loss: 0.0008086022743203563, Test loss: 0.041841681937594966\n",
      "Epoch: 1450, Train loss: 0.0007639515101335392, Test loss: 0.03725450577396669\n",
      "Epoch: 1475, Train loss: 0.0007226341495252744, Test loss: 0.032567104166722365\n",
      "Epoch: 1500, Train loss: 0.0006835561702182886, Test loss: 0.028516214291487308\n",
      "Epoch: 1525, Train loss: 0.0006459965319703623, Test loss: 0.02437536056719089\n",
      "Epoch: 1550, Train loss: 0.00060863879782118, Test loss: 0.021428674480399146\n",
      "Epoch: 1575, Train loss: 0.0005770105743749429, Test loss: 0.01855259549824389\n",
      "Epoch: 1600, Train loss: 0.0005441652482739646, Test loss: 0.015780306576823666\n",
      "Epoch: 1625, Train loss: 0.0005144800788314917, Test loss: 0.013473809940492569\n",
      "Epoch: 1650, Train loss: 0.0004850653574318162, Test loss: 0.011522147945968191\n",
      "Epoch: 1675, Train loss: 0.0004577680226225437, Test loss: 0.009664614517884453\n",
      "Epoch: 1700, Train loss: 0.0004324882933440319, Test loss: 0.008126047678171867\n",
      "Epoch: 1725, Train loss: 0.0004090792779938393, Test loss: 0.006876651068345664\n",
      "Epoch: 1750, Train loss: 0.000385427355026833, Test loss: 0.0055850035447440926\n",
      "Epoch: 1775, Train loss: 0.0003655928897399288, Test loss: 0.004550513056947337\n",
      "Epoch: 1800, Train loss: 0.00034551531778721946, Test loss: 0.003652477176183927\n",
      "Epoch: 1825, Train loss: 0.0003269447598680505, Test loss: 0.0028623013318868186\n",
      "Epoch: 1850, Train loss: 0.0003103894862735678, Test loss: 0.0022430844787701453\n",
      "Epoch: 1875, Train loss: 0.00029399702434240764, Test loss: 0.0018067738759473388\n",
      "Epoch: 1900, Train loss: 0.00027901234021716816, Test loss: 0.0013843306658254432\n",
      "Epoch: 1925, Train loss: 0.00026505983720165636, Test loss: 0.0011052855037727374\n",
      "Epoch: 1950, Train loss: 0.0002531694563993176, Test loss: 0.000879933246132316\n",
      "Epoch: 1975, Train loss: 0.0002411038773835561, Test loss: 0.0006835578361242203\n",
      "Epoch: 2000, Train loss: 0.0002302989228546994, Test loss: 0.0005719160779172655\n"
     ]
    }
   ],
   "source": [
    "num_epochs = 2000\n",
    "lr = 0.1\n",
    "\n",
    "device = torch.device('cuda')\n",
    "\n",
    "net = SceneModel().to(device)\n",
    "\n",
    "criterion = torch.nn.BCEWithLogitsLoss()\n",
    "optimizer = optim.SGD(net.parameters(), lr=lr)\n",
    "\n",
    "train_loss = []\n",
    "test_loss = []\n",
    "\n",
    "for epoch in range(num_epochs+1):\n",
    "    \n",
    "    net.train()\n",
    "    loss_tracker = 0.0\n",
    "    for x, y in train_dataloader:\n",
    "        x, y = x.cuda(), y.cuda()\n",
    "        optimizer.zero_grad()\n",
    "        preds = net(x)\n",
    "        loss = criterion(preds, y)\n",
    "        loss.backward()\n",
    "        optimizer.step()\n",
    "        loss_tracker+=loss.item()\n",
    "    train_loss.append(loss_tracker/len(train_dataloader))\n",
    "    \n",
    "    net.eval()\n",
    "    test_tracker = 0.0\n",
    "    for x, y in test_dataloader:\n",
    "        x, y = x.cuda(), y.cuda()\n",
    "        preds = net(x)\n",
    "        loss = criterion(preds, y)\n",
    "        test_tracker += loss.item()\n",
    "    test_loss.append(test_tracker/len(test_dataloader))\n",
    "    \n",
    "    if epoch % 25 == 0:\n",
    "        print(\"Epoch: {}, Train loss: {}, Test loss: {}\".format(epoch, train_loss[-1], test_loss[-1]))"
   ]
  },
  {
   "cell_type": "code",
   "execution_count": 19,
   "metadata": {},
   "outputs": [
    {
     "data": {
      "text/plain": [
       "<matplotlib.legend.Legend at 0x1575d525e80>"
      ]
     },
     "execution_count": 19,
     "metadata": {},
     "output_type": "execute_result"
    },
    {
     "data": {
      "image/png": "[encoded data removed]",
      "text/plain": [
       "<Figure size 720x720 with 1 Axes>"
      ]
     },
     "metadata": {
      "needs_background": "light"
     },
     "output_type": "display_data"
    }
   ],
   "source": [
    "plt.figure(figsize=(10,10))\n",
    "plt.plot(train_loss, label='train')\n",
    "plt.plot(test_loss, label='test')\n",
    "plt.legend()"
   ]
  },
  {
   "cell_type": "markdown",
   "metadata": {},
   "source": [
    "# Save the model after training."
   ]
  },
  {
   "cell_type": "code",
   "execution_count": 25,
   "metadata": {},
   "outputs": [],
   "source": [
    "def save_model(model, path):\n",
    "    torch.save(model.state_dict(), path)\n",
    "def load_model(model_cls, path):\n",
    "    model = model_cls(*args, **kwargs)\n",
    "    model.load_state_dict(torch.load(path))\n",
    "    model.eval()"
   ]
  },
  {
   "cell_type": "code",
   "execution_count": 24,
   "metadata": {},
   "outputs": [],
   "source": [
    "save_model(net, './models/mod_v1.torch')"
   ]
  },
  {
   "cell_type": "code",
   "execution_count": 151,
   "metadata": {},
   "outputs": [],
   "source": [
    "def eval_metrics(mod, metrics, datasets):\n",
    "    res_dict = {}\n",
    "    for ix, dataset in enumerate(datasets):\n",
    "        mod.eval()\n",
    "        x = dataset.tensors[0].cuda()\n",
    "        # Make predictions.\n",
    "        preds = mod(x)\n",
    "        # Convert them to binary multilabels.\n",
    "        y_pred = torch.round(torch.sigmoid(preds)).cpu().detach().numpy()\n",
    "        y_true = dataset.tensors[1].cpu().detach().numpy()\n",
    "        # Calculate metric.\n",
    "        res_dict[f'dataset_{ix}'] = {metric.__name__: metric(y_true, y_pred) for metric in metrics}\n",
    "    return res_dict"
   ]
  },
  {
   "cell_type": "code",
   "execution_count": 152,
   "metadata": {},
   "outputs": [
    {
     "data": {
      "text/plain": [
       "0.0"
      ]
     },
     "execution_count": 152,
     "metadata": {},
     "output_type": "execute_result"
    }
   ],
   "source": [
    "preds = net(train_dataset.tensors[0].to(device))\n",
    "y_pred = torch.round(torch.sigmoid(preds)).cpu().detach().numpy()\n",
    "y_true = train_dataset.tensors[1].cpu().detach().numpy()\n",
    "hamming_loss(y_true, y_pred)"
   ]
  },
  {
   "cell_type": "code",
   "execution_count": 153,
   "metadata": {},
   "outputs": [
    {
     "data": {
      "text/plain": [
       "{'dataset_0': {'hamming_loss': 0.0, 'accuracy_score': 1.0},\n",
       " 'dataset_1': {'hamming_loss': 0.0, 'accuracy_score': 1.0}}"
      ]
     },
     "execution_count": 153,
     "metadata": {},
     "output_type": "execute_result"
    }
   ],
   "source": [
    "eval_metrics(net, [hamming_loss, accuracy_score], [train_dataset, test_dataset])"
   ]
  }
 ],
 "metadata": {
  "kernelspec": {
   "display_name": "Python 3",
   "language": "python",
   "name": "python3"
  },
  "language_info": {
   "codemirror_mode": {
    "name": "ipython",
    "version": 3
   },
   "file_extension": ".py",
   "mimetype": "text/x-python",
   "name": "python",
   "nbconvert_exporter": "python",
   "pygments_lexer": "ipython3",
   "version": "3.7.2"
  }
 },
 "nbformat": 4,
 "nbformat_minor": 4
}
